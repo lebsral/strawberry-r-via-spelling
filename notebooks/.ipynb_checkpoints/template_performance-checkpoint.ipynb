{
 "cells": [
  {
   "cell_type": "markdown",
   "id": "334f8422",
   "metadata": {},
   "source": [
    "# Template Performance Analysis\n",
    "\n",
    "This notebook analyzes the effectiveness of different template variations on model performance."
   ]
  },
  {
   "cell_type": "code",
   "execution_count": null,
   "id": "77c26894",
   "metadata": {},
   "outputs": [],
   "source": [
    "import sys\n",
    "from pathlib import Path\n",
    "import json\n",
    "import pandas as pd\n",
    "import numpy as np\n",
    "import matplotlib.pyplot as plt\n",
    "import seaborn as sns\n",
    "from collections import defaultdict\n",
    "\n",
    "# Add project root to path\n",
    "project_root = Path.cwd().parent\n",
    "sys.path.append(str(project_root))\n",
    "\n",
    "from src.data.data_loader import TemplateDataLoader, BatchConfig"
   ]
  },
  {
   "cell_type": "code",
   "execution_count": null,
   "id": "72281f00",
   "metadata": {},
   "outputs": [],
   "source": [
    "# Load template data\n",
    "data_dir = project_root / 'data' / 'processed' / 'template_variations'\n",
    "batch_config = BatchConfig(batch_size=32)\n",
    "loader = TemplateDataLoader(data_dir=data_dir, batch_config=batch_config)\n",
    "\n",
    "# Get training batches\n",
    "train_batches = list(loader.get_train_batches())"
   ]
  },
  {
   "cell_type": "markdown",
   "id": "f6f9c301",
   "metadata": {},
   "source": [
    "## Template Performance Metrics"
   ]
  },
  {
   "cell_type": "code",
   "execution_count": null,
   "id": "b2096387",
   "metadata": {},
   "outputs": [],
   "source": [
    "# Calculate performance metrics per template type\n",
    "metrics = defaultdict(lambda: {'count': 0, 'avg_length': 0})\n",
    "\n",
    "for batch in train_batches:\n",
    "    for example in batch['examples']:\n",
    "        template_type = example['template_type']\n",
    "        metrics[template_type]['count'] += 1\n",
    "        metrics[template_type]['avg_length'] += len(example['input'])\n",
    "\n",
    "# Convert to DataFrame\n",
    "metrics_df = pd.DataFrame(metrics).T\n",
    "metrics_df['avg_length'] = metrics_df['avg_length'] / metrics_df['count']\n",
    "\n",
    "# Plot metrics\n",
    "plt.figure(figsize=(12, 6))\n",
    "sns.scatterplot(data=metrics_df, x='count', y='avg_length')\n",
    "plt.title('Template Usage vs Average Length')\n",
    "plt.savefig('../results/token_analysis/template_metrics.png')"
   ]
  }
 ],
 "metadata": {},
 "nbformat": 4,
 "nbformat_minor": 5
}
