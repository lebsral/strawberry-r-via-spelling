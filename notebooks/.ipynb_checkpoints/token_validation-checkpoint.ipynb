{
 "cells": [
  {
   "cell_type": "markdown",
   "id": "3230f04e",
   "metadata": {},
   "source": [
    "# GPT-2 Token Extraction Validation\n",
    "\n",
    "This notebook validates the extracted multi-character, letter-based tokens from the GPT-2 vocabulary and creates visualizations of their distribution."
   ]
  },
  {
   "cell_type": "code",
   "execution_count": null,
   "id": "7565d30e",
   "metadata": {},
   "outputs": [],
   "source": [
    "import json\n",
    "import random\n",
    "import matplotlib.pyplot as plt\n",
    "import seaborn as sns\n",
    "import pandas as pd\n",
    "from pathlib import Path\n",
    "\n",
    "# Get project root directory\n",
    "project_root = Path.cwd()\n",
    "\n",
    "# Set style for better visualizations\n",
    "plt.style.use('seaborn')\n",
    "sns.set_palette(\"husl\")\n",
    "\n",
    "# Load the extracted tokens\n",
    "tokens_file = project_root / 'data' / 'processed' / 'gpt2_letter_tokens.json'\n",
    "with open(tokens_file) as f:\n",
    "    tokens_data = json.load(f)\n",
    "\n",
    "# Convert to DataFrame for easier analysis\n",
    "df = pd.DataFrame(tokens_data)\n",
    "\n",
    "# Calculate basic statistics\n",
    "print(f\"Total number of tokens: {len(df)}\")\n",
    "print(f\"Average token length: {df['length'].mean():.2f} characters\")\n",
    "print(f\"Median token length: {df['length'].median()} characters\")\n",
    "print(f\"Min token length: {df['length'].min()} characters\")\n",
    "print(f\"Max token length: {df['length'].max()} characters\")\n",
    "\n",
    "# Create results directory if it doesn't exist\n",
    "results_dir = project_root / 'results' / 'token_analysis'\n",
    "results_dir.mkdir(parents=True, exist_ok=True)\n",
    "\n",
    "# Create length distribution plot\n",
    "plt.figure(figsize=(12, 6))\n",
    "sns.histplot(data=df, x='length', bins=30)\n",
    "plt.title('Distribution of Token Lengths')\n",
    "plt.xlabel('Token Length (characters)')\n",
    "plt.ylabel('Count')\n",
    "plt.savefig(results_dir / 'length_distribution.png')\n",
    "plt.show()"
   ]
  }
 ],
 "metadata": {},
 "nbformat": 4,
 "nbformat_minor": 5
}
