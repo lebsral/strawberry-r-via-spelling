{
 "cells": [
  {
   "cell_type": "markdown",
   "id": "c412cd4c",
   "metadata": {},
   "source": [
    "# Template Performance Analysis\n",
    "\n",
    "This notebook analyzes the effectiveness of different template variations on model performance.\n",
    "\n",
    "Key metrics analyzed:\n",
    "- Success rate by template category\n",
    "- Impact of token separation style\n",
    "- Sequence length vs performance\n",
    "- Template complexity vs accuracy\n",
    "- Error pattern analysis"
   ]
  },
  {
   "cell_type": "code",
   "execution_count": null,
   "id": "1d3f1101",
   "metadata": {},
   "outputs": [],
   "source": [
    "import sys\n",
    "    from pathlib import Path\n",
    "    import json\n",
    "    import pandas as pd\n",
    "    import numpy as np\n",
    "    import matplotlib.pyplot as plt\n",
    "    import seaborn as sns\n",
    "    from collections import defaultdict\n",
    "\n",
    "    # Add project root to path\n",
    "    project_root = Path.cwd().parent\n",
    "    sys.path.append(str(project_root))\n",
    "\n",
    "    # Set standard plotting parameters\n",
    "    plt.style.use('seaborn')\n",
    "    plt.rcParams['figure.figsize'] = [12, 8]\n",
    "    plt.rcParams['figure.dpi'] = 100\n",
    "\n",
    "    # Import project modules\n",
    "    from src.data.data_loader import TemplateDataLoader, BatchConfig, DataStats"
   ]
  },
  {
   "cell_type": "markdown",
   "id": "418629bc",
   "metadata": {},
   "source": [
    "## Data Loading"
   ]
  },
  {
   "cell_type": "code",
   "execution_count": null,
   "id": "9180f259",
   "metadata": {},
   "outputs": [],
   "source": [
    "# Initialize data loader\n",
    "data_dir = project_root / \"data\" / \"processed\" / \"template_variations\"\n",
    "batch_config = BatchConfig(\n",
    "    batch_size=32,\n",
    "    max_length=512,\n",
    "    similar_length_tolerance=50,\n",
    "    shuffle=True\n",
    ")\n",
    "\n",
    "loader = TemplateDataLoader(\n",
    "    data_dir=data_dir,\n",
    "    batch_config=batch_config,\n",
    "    split_ratios=(0.8, 0.1, 0.1)\n",
    ")\n",
    "\n",
    "# Get data statistics\n",
    "stats = loader.get_stats()\n",
    "print(f\"Total examples: {stats.total_examples}\")\n",
    "print(f\"Average sequence length: {stats.avg_sequence_length:.2f}\")\n",
    "\n",
    "# Get training batches\n",
    "train_batches = list(loader.train_batches())\n",
    "print(f\"Number of training batches: {len(train_batches)}\")"
   ]
  },
  {
   "cell_type": "markdown",
   "id": "804b800e",
   "metadata": {},
   "source": [
    "## Analysis"
   ]
  },
  {
   "cell_type": "code",
   "execution_count": null,
   "id": "eb0195c2",
   "metadata": {},
   "outputs": [],
   "source": [
    "# Plot template category distribution\n",
    "plt.figure(figsize=(12, 6))\n",
    "template_dist = pd.Series(stats.template_distribution)\n",
    "sns.barplot(x=template_dist.index, y=template_dist.values)\n",
    "plt.xticks(rotation=45)\n",
    "plt.title('Distribution of Template Categories')\n",
    "plt.tight_layout()\n",
    "plt.savefig(project_root / 'results' / 'token_analysis' / 'template_distribution.png')\n",
    "plt.close()\n",
    "\n",
    "# Plot sequence length distribution\n",
    "plt.figure(figsize=(12, 6))\n",
    "length_dist = pd.Series(stats.length_distribution)\n",
    "sns.histplot(data=length_dist.index, weights=length_dist.values, bins=30)\n",
    "plt.title('Distribution of Sequence Lengths')\n",
    "plt.xlabel('Sequence Length')\n",
    "plt.ylabel('Count')\n",
    "plt.tight_layout()\n",
    "plt.savefig(project_root / 'results' / 'token_analysis' / 'length_distribution.png')\n",
    "plt.close()"
   ]
  }
 ],
 "metadata": {},
 "nbformat": 4,
 "nbformat_minor": 5
}
