{
 "cells": [
  {
   "cell_type": "markdown",
   "id": "f4f4014e",
   "metadata": {},
   "source": [
    "# Tokenizer Model Training\n",
    "\n",
    "This notebook trains the tokenizer model using the Alpaca format. Follow the steps below to:\n",
    "1. Set up the environment\n",
    "2. Download the training data\n",
    "3. Train the model\n",
    "4. Save the results\n",
    "\n",
    "## Initial Setup"
   ]
  },
  {
   "cell_type": "code",
   "execution_count": null,
   "id": "4c16154b",
   "metadata": {},
   "outputs": [],
   "source": [
    "%%capture\n",
    "!pip install transformers torch wandb datasets tqdm\n",
    "!pip install -q git+https://github.com/huggingface/transformers.git"
   ]
  },
  {
   "cell_type": "markdown",
   "id": "f45e2af4",
   "metadata": {},
   "source": [
    "## Clone Repository and Setup Data"
   ]
  },
  {
   "cell_type": "code",
   "execution_count": null,
   "id": "d25e05c4",
   "metadata": {},
   "outputs": [],
   "source": [
    "!git clone https://github.com/lebsral/raspberry.git\n",
    "%cd raspberry\n",
    "!pip install -r requirements.txt"
   ]
  },
  {
   "cell_type": "markdown",
   "id": "3bffd6cb",
   "metadata": {},
   "source": [
    "## Mount Google Drive\n",
    "Mount Google Drive to save checkpoints and load data if needed:"
   ]
  },
  {
   "cell_type": "code",
   "execution_count": null,
   "id": "d2928ed3",
   "metadata": {},
   "outputs": [],
   "source": [
    "from google.colab import drive\n",
    "drive.mount('/content/drive')"
   ]
  },
  {
   "cell_type": "markdown",
   "id": "73534cd8",
   "metadata": {},
   "source": [
    "## Import Dependencies"
   ]
  },
  {
   "cell_type": "code",
   "execution_count": null,
   "id": "ea003696",
   "metadata": {},
   "outputs": [],
   "source": [
    "import os\n",
    "import sys\n",
    "import json\n",
    "import torch\n",
    "from pathlib import Path\n",
    "from transformers import AutoModelForCausalLM, AutoTokenizer, Trainer, TrainingArguments\n",
    "import wandb"
   ]
  },
  {
   "cell_type": "markdown",
   "id": "9768d23a",
   "metadata": {},
   "source": [
    "## Configuration\n",
    "Set up training parameters:"
   ]
  },
  {
   "cell_type": "code",
   "execution_count": null,
   "id": "88a448ce",
   "metadata": {},
   "outputs": [],
   "source": [
    "# Training configuration\n",
    "config = {\n",
    "    \"model_name\": \"gpt2\",  # Base model to fine-tune\n",
    "    \"train_file\": \"data/processed/alpaca_examples.json\",\n",
    "    \"output_dir\": \"/content/drive/MyDrive/tokenizer_checkpoints\",\n",
    "    \"num_epochs\": 3,\n",
    "    \"batch_size\": 4,\n",
    "    \"gradient_accumulation_steps\": 4,\n",
    "    \"learning_rate\": 2e-5,\n",
    "    \"max_length\": 512,\n",
    "}\n",
    "\n",
    "# Create output directory\n",
    "os.makedirs(config[\"output_dir\"], exist_ok=True)"
   ]
  },
  {
   "cell_type": "markdown",
   "id": "846e9b9c",
   "metadata": {},
   "source": [
    "## Training Code\n",
    "Import the training implementation:"
   ]
  },
  {
   "cell_type": "code",
   "execution_count": null,
   "id": "d02fc886",
   "metadata": {},
   "outputs": [],
   "source": [
    "from src.training.train import AlpacaDataset, train\n",
    "\n",
    "# Initialize wandb\n",
    "wandb.login()\n",
    "\n",
    "# Start training\n",
    "train(\n",
    "    model_name=config[\"model_name\"],\n",
    "    train_file=config[\"train_file\"],\n",
    "    output_dir=config[\"output_dir\"],\n",
    "    num_epochs=config[\"num_epochs\"],\n",
    "    batch_size=config[\"batch_size\"],\n",
    "    gradient_accumulation_steps=config[\"gradient_accumulation_steps\"],\n",
    "    learning_rate=config[\"learning_rate\"],\n",
    "    max_length=config[\"max_length\"],\n",
    ")"
   ]
  },
  {
   "cell_type": "markdown",
   "id": "dfa5090f",
   "metadata": {},
   "source": [
    "## Save Results\n",
    "The model checkpoints are automatically saved to Google Drive. You can also download them locally:"
   ]
  },
  {
   "cell_type": "code",
   "execution_count": null,
   "id": "c955c8cd",
   "metadata": {},
   "outputs": [],
   "source": [
    "# Download final checkpoint if needed\n",
    "!zip -r /content/model_checkpoint.zip {config[\"output_dir\"]}\n",
    "from google.colab import files\n",
    "files.download(\"/content/model_checkpoint.zip\")"
   ]
  }
 ],
 "metadata": {},
 "nbformat": 4,
 "nbformat_minor": 5
}
