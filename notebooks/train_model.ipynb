{
 "cells": [
  {
   "cell_type": "markdown",
   "id": "8a6c6cd4",
   "metadata": {},
   "source": [
    "# Tokenizer Model Training in Colab\n",
    "\n",
    "This notebook trains the tokenizer model using the Alpaca format. Follow the steps below to:\n",
    "1. Set up the environment\n",
    "2. Clone and configure the repository\n",
    "3. Load and validate data\n",
    "4. Train the model\n",
    "5. Save the results\n",
    "\n",
    "## Initial Setup"
   ]
  },
  {
   "cell_type": "code",
   "execution_count": null,
   "id": "884a4077",
   "metadata": {},
   "outputs": [],
   "source": [
    "%%capture\n",
    "!pip install torch transformers datasets wandb matplotlib seaborn pandas ipywidgets"
   ]
  },
  {
   "cell_type": "markdown",
   "id": "e8554979",
   "metadata": {},
   "source": [
    "## Clone Repository and Setup\n",
    "This cell handles repository setup and configuration."
   ]
  },
  {
   "cell_type": "code",
   "execution_count": null,
   "id": "73c46841",
   "metadata": {},
   "outputs": [],
   "source": [
    "# Setup script for Google Colab\n",
    "import os\n",
    "import sys\n",
    "from google.colab import drive\n",
    "\n",
    "def setup_repository():\n",
    "    # 1. Start in content directory\n",
    "    os.chdir('/content')\n",
    "    print(\"Starting in directory:\", os.getcwd())\n",
    "\n",
    "    # 2. Define repository and paths\n",
    "    REPO_NAME = \"raspberry\"\n",
    "    REPO_URL = f\"https://github.com/lebsral/{REPO_NAME}.git\"\n",
    "    REPO_PATH = os.path.join('/content', REPO_NAME)\n",
    "\n",
    "    try:\n",
    "        # 3. Clean up any existing repo directory\n",
    "        if os.path.exists(REPO_PATH):\n",
    "            print(f\"Found existing repository at {REPO_PATH}\")\n",
    "            !rm -rf $REPO_PATH\n",
    "            print(\"✅ Cleaned up existing repository\")\n",
    "\n",
    "        # 4. Clone fresh repository\n",
    "        print(\"Cloning fresh repository...\")\n",
    "        !git clone $REPO_URL\n",
    "\n",
    "        # 5. Change to repository directory\n",
    "        os.chdir(REPO_PATH)\n",
    "        print(f\"✅ Changed working directory to: {os.getcwd()}\")\n",
    "\n",
    "        # 6. Add repository root to Python path\n",
    "        if REPO_PATH not in sys.path:\n",
    "            sys.path.insert(0, REPO_PATH)\n",
    "            print(f\"✅ Added {REPO_PATH} to Python path\")\n",
    "\n",
    "        # 7. Verify setup\n",
    "        print(\"\\nVerification:\")\n",
    "        print(\"-------------\")\n",
    "        print(\"Repository contents:\", os.listdir('.'))\n",
    "        print(\"Current working directory:\", os.getcwd())\n",
    "        print(\"Python path:\", REPO_PATH)\n",
    "\n",
    "        # 8. Test import\n",
    "        try:\n",
    "            import src\n",
    "            print(\"✅ src module can be imported successfully\")\n",
    "        except ImportError as e:\n",
    "            print(f\"❌ Error importing src module: {e}\")\n",
    "\n",
    "        print(\"\\n✅ Setup completed successfully!\")\n",
    "\n",
    "    except Exception as e:\n",
    "        print(f\"\\n❌ Error during setup: {e}\")\n",
    "        return False\n",
    "\n",
    "    return True\n",
    "\n",
    "# Run the setup\n",
    "setup_repository()"
   ]
  },
  {
   "cell_type": "markdown",
   "id": "16ed7911",
   "metadata": {},
   "source": [
    "## Mount Google Drive\n",
    "Mount Google Drive to save checkpoints and load data if needed:"
   ]
  },
  {
   "cell_type": "code",
   "execution_count": null,
   "id": "5b76e3f5",
   "metadata": {},
   "outputs": [],
   "source": [
    "from google.colab import drive\n",
    "drive.mount('/content/drive')"
   ]
  },
  {
   "cell_type": "markdown",
   "id": "59714af3",
   "metadata": {},
   "source": [
    "## Validate Alpaca-format Data\n",
    "Check all JSON files in `data/processed/` for schema compliance."
   ]
  },
  {
   "cell_type": "code",
   "execution_count": null,
   "id": "c9961682",
   "metadata": {},
   "outputs": [],
   "source": [
    "from src.data.validate_alpaca_schema import AlpacaSchemaValidator\n",
    "from pathlib import Path\n",
    "\n",
    "data_dir = Path('data/processed')\n",
    "english_tokens_path = data_dir / 'english_tokens.json'\n",
    "validator = AlpacaSchemaValidator(english_tokens_path if english_tokens_path.exists() else None)\n",
    "reports = validator.validate_dir(data_dir)\n",
    "for report in reports:\n",
    "    print(f'\\nFile: {report[\"file\"]}')\n",
    "    if 'total' in report:\n",
    "        print(f'  Total examples: {report[\"total\"]}')\n",
    "        print(f'  Valid: {report[\"valid\"]}')\n",
    "        print(f'  Invalid: {report[\"invalid\"]}')\n",
    "        if report['invalid'] > 0:\n",
    "            for err in report['errors']:\n",
    "                print(f'    Example #{err[\"index\"]}: {err[\"errors\"]}')\n",
    "    else:\n",
    "        print(f'  Error: {report.get(\"error\", \"Unknown error\")}')"
   ]
  },
  {
   "cell_type": "markdown",
   "id": "7a0fe8cb",
   "metadata": {},
   "source": [
    "## Load and Inspect Training Data\n",
    "Load Alpaca-format data and print stats and a sample batch."
   ]
  },
  {
   "cell_type": "code",
   "execution_count": null,
   "id": "b7f5e435",
   "metadata": {},
   "outputs": [],
   "source": [
    "from src.data.data_loader import TemplateDataLoader, BatchConfig\n",
    "\n",
    "loader = TemplateDataLoader(\n",
    "    data_dir=data_dir,\n",
    "    batch_config=BatchConfig(batch_size=4, max_length=128, shuffle=False)\n",
    ")\n",
    "stats = loader.get_stats()\n",
    "print('Stats:', stats)\n",
    "for batch in loader.train_batches():\n",
    "    print('Batch:', batch)\n",
    "    break  # Show only the first batch"
   ]
  },
  {
   "cell_type": "markdown",
   "id": "23e2c915",
   "metadata": {},
   "source": [
    "## Training Configuration\n",
    "Set up model training parameters:"
   ]
  },
  {
   "cell_type": "code",
   "execution_count": null,
   "id": "ec3bbf66",
   "metadata": {},
   "outputs": [],
   "source": [
    "# Training configuration\n",
    "config = {\n",
    "    \"model_name\": \"gpt2\",  # Base model to fine-tune\n",
    "    \"train_file\": \"data/processed/alpaca_examples.json\",\n",
    "    \"output_dir\": \"/content/drive/MyDrive/tokenizer_checkpoints\",\n",
    "    \"num_epochs\": 3,\n",
    "    \"batch_size\": 4,\n",
    "    \"gradient_accumulation_steps\": 4,\n",
    "    \"learning_rate\": 2e-5,\n",
    "    \"max_length\": 512,\n",
    "}\n",
    "\n",
    "# Create output directory\n",
    "os.makedirs(config[\"output_dir\"], exist_ok=True)"
   ]
  },
  {
   "cell_type": "markdown",
   "id": "d7200530",
   "metadata": {},
   "source": [
    "## Model Training\n",
    "Initialize and start the training process:"
   ]
  },
  {
   "cell_type": "code",
   "execution_count": null,
   "id": "4ca8ae12",
   "metadata": {},
   "outputs": [],
   "source": [
    "from src.training.train import AlpacaDataset, train\n",
    "\n",
    "# Initialize wandb\n",
    "wandb.login()\n",
    "\n",
    "# Start training\n",
    "train(\n",
    "    model_name=config[\"model_name\"],\n",
    "    train_file=config[\"train_file\"],\n",
    "    output_dir=config[\"output_dir\"],\n",
    "    num_epochs=config[\"num_epochs\"],\n",
    "    batch_size=config[\"batch_size\"],\n",
    "    gradient_accumulation_steps=config[\"gradient_accumulation_steps\"],\n",
    "    learning_rate=config[\"learning_rate\"],\n",
    "    max_length=config[\"max_length\"],\n",
    ")"
   ]
  },
  {
   "cell_type": "markdown",
   "id": "c2d6f812",
   "metadata": {},
   "source": [
    "## Save Results\n",
    "The model checkpoints are automatically saved to Google Drive. You can also download them locally:"
   ]
  },
  {
   "cell_type": "code",
   "execution_count": null,
   "id": "cccbd683",
   "metadata": {},
   "outputs": [],
   "source": [
    "# Download final checkpoint if needed\n",
    "!zip -r /content/model_checkpoint.zip {config[\"output_dir\"]}\n",
    "from google.colab import files\n",
    "files.download(\"/content/model_checkpoint.zip\")"
   ]
  }
 ],
 "metadata": {},
 "nbformat": 4,
 "nbformat_minor": 5
}
